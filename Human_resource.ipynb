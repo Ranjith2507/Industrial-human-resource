{
  "nbformat": 4,
  "nbformat_minor": 0,
  "metadata": {
    "colab": {
      "provenance": []
    },
    "kernelspec": {
      "name": "python3",
      "display_name": "Python 3"
    },
    "language_info": {
      "name": "python"
    }
  },
  "cells": [
    {
      "cell_type": "code",
      "execution_count": null,
      "metadata": {
        "id": "ZnRZZJOAfKg0"
      },
      "outputs": [],
      "source": [
        "import pandas as pd\n",
        "from glob import glob\n",
        "import matplotlib.pyplot as plt\n",
        "import seaborn as sns"
      ]
    },
    {
      "cell_type": "markdown",
      "source": [
        "Merging several csv files into one dataframe by using the glob function"
      ],
      "metadata": {
        "id": "vGKOz8ksdk4f"
      }
    },
    {
      "cell_type": "code",
      "source": [
        "data_files = sorted(glob('/content/drive/MyDrive/data/*.csv'))\n",
        "data_files"
      ],
      "metadata": {
        "colab": {
          "base_uri": "https://localhost:8080/"
        },
        "id": "DtfIGU-4gvgv",
        "outputId": "9ada9f89-9ee8-4218-88f2-d3bddb2b6821"
      },
      "execution_count": null,
      "outputs": [
        {
          "output_type": "execute_result",
          "data": {
            "text/plain": [
              "['/content/drive/MyDrive/data/data1.csv',\n",
              " '/content/drive/MyDrive/data/data10.csv',\n",
              " '/content/drive/MyDrive/data/data11.csv',\n",
              " '/content/drive/MyDrive/data/data12.csv',\n",
              " '/content/drive/MyDrive/data/data13.csv',\n",
              " '/content/drive/MyDrive/data/data14.csv',\n",
              " '/content/drive/MyDrive/data/data15.csv',\n",
              " '/content/drive/MyDrive/data/data16.csv',\n",
              " '/content/drive/MyDrive/data/data17.csv',\n",
              " '/content/drive/MyDrive/data/data18.csv',\n",
              " '/content/drive/MyDrive/data/data19.csv',\n",
              " '/content/drive/MyDrive/data/data2.csv',\n",
              " '/content/drive/MyDrive/data/data20.csv',\n",
              " '/content/drive/MyDrive/data/data21.csv',\n",
              " '/content/drive/MyDrive/data/data22.csv',\n",
              " '/content/drive/MyDrive/data/data23.csv',\n",
              " '/content/drive/MyDrive/data/data3.csv',\n",
              " '/content/drive/MyDrive/data/data4.csv',\n",
              " '/content/drive/MyDrive/data/data5.csv',\n",
              " '/content/drive/MyDrive/data/data6.csv',\n",
              " '/content/drive/MyDrive/data/data7.csv',\n",
              " '/content/drive/MyDrive/data/data8.csv',\n",
              " '/content/drive/MyDrive/data/data9.csv']"
            ]
          },
          "metadata": {},
          "execution_count": 31
        }
      ]
    },
    {
      "cell_type": "code",
      "source": [
        "df = pd.concat(pd.read_csv(datafile, encoding=('ISO-8859-1'),low_memory =False).assign(sourcefilename = datafile) for datafile in data_files)"
      ],
      "metadata": {
        "id": "CQ5nAi2kjbos"
      },
      "execution_count": null,
      "outputs": []
    },
    {
      "cell_type": "code",
      "source": [
        "from google.colab import drive\n",
        "drive.mount('/content/drive')"
      ],
      "metadata": {
        "id": "gU0m9g-U6DS1",
        "colab": {
          "base_uri": "https://localhost:8080/"
        },
        "outputId": "a1656896-e650-4a05-b602-4133b7eccf92"
      },
      "execution_count": null,
      "outputs": [
        {
          "output_type": "stream",
          "name": "stdout",
          "text": [
            "Mounted at /content/drive\n"
          ]
        }
      ]
    },
    {
      "cell_type": "code",
      "source": [
        "df.head(5)"
      ],
      "metadata": {
        "colab": {
          "base_uri": "https://localhost:8080/",
          "height": 629
        },
        "id": "STU98qtFnGRw",
        "outputId": "3e72dd10-27c0-4eb5-8bb7-6ac82c8237f5"
      },
      "execution_count": null,
      "outputs": [
        {
          "output_type": "execute_result",
          "data": {
            "text/plain": [
              "  State Code District Code     India/States Division Group  Class  \\\n",
              "0        `15          `000  STATE - MIZORAM      `00  `000  `0000   \n",
              "1        `15          `000  STATE - MIZORAM      `01  `000  `0000   \n",
              "2        `15          `000  STATE - MIZORAM      `01  `011  `0000   \n",
              "3        `15          `000  STATE - MIZORAM      `01  `011  `0111   \n",
              "4        `15          `000  STATE - MIZORAM      `01  `011  `0112   \n",
              "\n",
              "                                            NIC Name  \\\n",
              "0                                              Total   \n",
              "1  Crop and animal production, hunting and relate...   \n",
              "2                     Growing of non-perennial crops   \n",
              "3  Growing of cereals (except rice), leguminous c...   \n",
              "4                                    Growing of rice   \n",
              "\n",
              "   Main Workers - Total -  Persons  Main Workers - Total - Males  \\\n",
              "0                           185730                        124545   \n",
              "1                             6923                          4018   \n",
              "2                             2345                          1389   \n",
              "3                              130                            80   \n",
              "4                             1908                          1154   \n",
              "\n",
              "   Main Workers - Total - Females  ...  Marginal Workers - Total -  Persons  \\\n",
              "0                           61185  ...                                29084   \n",
              "1                            2905  ...                                 2260   \n",
              "2                             956  ...                                  401   \n",
              "3                              50  ...                                   10   \n",
              "4                             754  ...                                  280   \n",
              "\n",
              "   Marginal Workers - Total - Males  Marginal Workers - Total - Females  \\\n",
              "0                             13581                               15503   \n",
              "1                               659                                1601   \n",
              "2                               180                                 221   \n",
              "3                                 4                                   6   \n",
              "4                               146                                 134   \n",
              "\n",
              "   Marginal Workers - Rural -  Persons  Marginal Workers - Rural - Males  \\\n",
              "0                                 6001                              2316   \n",
              "1                                  469                               145   \n",
              "2                                  106                                46   \n",
              "3                                    1                                 0   \n",
              "4                                   82                                39   \n",
              "\n",
              "   Marginal Workers - Rural - Females  Marginal Workers - Urban -  Persons  \\\n",
              "0                                3685                                23083   \n",
              "1                                 324                                 1791   \n",
              "2                                  60                                  295   \n",
              "3                                   1                                    9   \n",
              "4                                  43                                  198   \n",
              "\n",
              "   Marginal Workers - Urban - Males  Marginal Workers - Urban - Females  \\\n",
              "0                             11265                               11818   \n",
              "1                               514                                1277   \n",
              "2                               134                                 161   \n",
              "3                                 4                                   5   \n",
              "4                               107                                  91   \n",
              "\n",
              "                          sourcefilename  \n",
              "0  /content/drive/MyDrive/data/data1.csv  \n",
              "1  /content/drive/MyDrive/data/data1.csv  \n",
              "2  /content/drive/MyDrive/data/data1.csv  \n",
              "3  /content/drive/MyDrive/data/data1.csv  \n",
              "4  /content/drive/MyDrive/data/data1.csv  \n",
              "\n",
              "[5 rows x 26 columns]"
            ],
            "text/html": [
              "\n",
              "  <div id=\"df-ad217c9f-9930-4f7f-9af3-d2b51edbcb6c\">\n",
              "    <div class=\"colab-df-container\">\n",
              "      <div>\n",
              "<style scoped>\n",
              "    .dataframe tbody tr th:only-of-type {\n",
              "        vertical-align: middle;\n",
              "    }\n",
              "\n",
              "    .dataframe tbody tr th {\n",
              "        vertical-align: top;\n",
              "    }\n",
              "\n",
              "    .dataframe thead th {\n",
              "        text-align: right;\n",
              "    }\n",
              "</style>\n",
              "<table border=\"1\" class=\"dataframe\">\n",
              "  <thead>\n",
              "    <tr style=\"text-align: right;\">\n",
              "      <th></th>\n",
              "      <th>State Code</th>\n",
              "      <th>District Code</th>\n",
              "      <th>India/States</th>\n",
              "      <th>Division</th>\n",
              "      <th>Group</th>\n",
              "      <th>Class</th>\n",
              "      <th>NIC Name</th>\n",
              "      <th>Main Workers - Total -  Persons</th>\n",
              "      <th>Main Workers - Total - Males</th>\n",
              "      <th>Main Workers - Total - Females</th>\n",
              "      <th>...</th>\n",
              "      <th>Marginal Workers - Total -  Persons</th>\n",
              "      <th>Marginal Workers - Total - Males</th>\n",
              "      <th>Marginal Workers - Total - Females</th>\n",
              "      <th>Marginal Workers - Rural -  Persons</th>\n",
              "      <th>Marginal Workers - Rural - Males</th>\n",
              "      <th>Marginal Workers - Rural - Females</th>\n",
              "      <th>Marginal Workers - Urban -  Persons</th>\n",
              "      <th>Marginal Workers - Urban - Males</th>\n",
              "      <th>Marginal Workers - Urban - Females</th>\n",
              "      <th>sourcefilename</th>\n",
              "    </tr>\n",
              "  </thead>\n",
              "  <tbody>\n",
              "    <tr>\n",
              "      <th>0</th>\n",
              "      <td>`15</td>\n",
              "      <td>`000</td>\n",
              "      <td>STATE - MIZORAM</td>\n",
              "      <td>`00</td>\n",
              "      <td>`000</td>\n",
              "      <td>`0000</td>\n",
              "      <td>Total</td>\n",
              "      <td>185730</td>\n",
              "      <td>124545</td>\n",
              "      <td>61185</td>\n",
              "      <td>...</td>\n",
              "      <td>29084</td>\n",
              "      <td>13581</td>\n",
              "      <td>15503</td>\n",
              "      <td>6001</td>\n",
              "      <td>2316</td>\n",
              "      <td>3685</td>\n",
              "      <td>23083</td>\n",
              "      <td>11265</td>\n",
              "      <td>11818</td>\n",
              "      <td>/content/drive/MyDrive/data/data1.csv</td>\n",
              "    </tr>\n",
              "    <tr>\n",
              "      <th>1</th>\n",
              "      <td>`15</td>\n",
              "      <td>`000</td>\n",
              "      <td>STATE - MIZORAM</td>\n",
              "      <td>`01</td>\n",
              "      <td>`000</td>\n",
              "      <td>`0000</td>\n",
              "      <td>Crop and animal production, hunting and relate...</td>\n",
              "      <td>6923</td>\n",
              "      <td>4018</td>\n",
              "      <td>2905</td>\n",
              "      <td>...</td>\n",
              "      <td>2260</td>\n",
              "      <td>659</td>\n",
              "      <td>1601</td>\n",
              "      <td>469</td>\n",
              "      <td>145</td>\n",
              "      <td>324</td>\n",
              "      <td>1791</td>\n",
              "      <td>514</td>\n",
              "      <td>1277</td>\n",
              "      <td>/content/drive/MyDrive/data/data1.csv</td>\n",
              "    </tr>\n",
              "    <tr>\n",
              "      <th>2</th>\n",
              "      <td>`15</td>\n",
              "      <td>`000</td>\n",
              "      <td>STATE - MIZORAM</td>\n",
              "      <td>`01</td>\n",
              "      <td>`011</td>\n",
              "      <td>`0000</td>\n",
              "      <td>Growing of non-perennial crops</td>\n",
              "      <td>2345</td>\n",
              "      <td>1389</td>\n",
              "      <td>956</td>\n",
              "      <td>...</td>\n",
              "      <td>401</td>\n",
              "      <td>180</td>\n",
              "      <td>221</td>\n",
              "      <td>106</td>\n",
              "      <td>46</td>\n",
              "      <td>60</td>\n",
              "      <td>295</td>\n",
              "      <td>134</td>\n",
              "      <td>161</td>\n",
              "      <td>/content/drive/MyDrive/data/data1.csv</td>\n",
              "    </tr>\n",
              "    <tr>\n",
              "      <th>3</th>\n",
              "      <td>`15</td>\n",
              "      <td>`000</td>\n",
              "      <td>STATE - MIZORAM</td>\n",
              "      <td>`01</td>\n",
              "      <td>`011</td>\n",
              "      <td>`0111</td>\n",
              "      <td>Growing of cereals (except rice), leguminous c...</td>\n",
              "      <td>130</td>\n",
              "      <td>80</td>\n",
              "      <td>50</td>\n",
              "      <td>...</td>\n",
              "      <td>10</td>\n",
              "      <td>4</td>\n",
              "      <td>6</td>\n",
              "      <td>1</td>\n",
              "      <td>0</td>\n",
              "      <td>1</td>\n",
              "      <td>9</td>\n",
              "      <td>4</td>\n",
              "      <td>5</td>\n",
              "      <td>/content/drive/MyDrive/data/data1.csv</td>\n",
              "    </tr>\n",
              "    <tr>\n",
              "      <th>4</th>\n",
              "      <td>`15</td>\n",
              "      <td>`000</td>\n",
              "      <td>STATE - MIZORAM</td>\n",
              "      <td>`01</td>\n",
              "      <td>`011</td>\n",
              "      <td>`0112</td>\n",
              "      <td>Growing of rice</td>\n",
              "      <td>1908</td>\n",
              "      <td>1154</td>\n",
              "      <td>754</td>\n",
              "      <td>...</td>\n",
              "      <td>280</td>\n",
              "      <td>146</td>\n",
              "      <td>134</td>\n",
              "      <td>82</td>\n",
              "      <td>39</td>\n",
              "      <td>43</td>\n",
              "      <td>198</td>\n",
              "      <td>107</td>\n",
              "      <td>91</td>\n",
              "      <td>/content/drive/MyDrive/data/data1.csv</td>\n",
              "    </tr>\n",
              "  </tbody>\n",
              "</table>\n",
              "<p>5 rows × 26 columns</p>\n",
              "</div>\n",
              "      <button class=\"colab-df-convert\" onclick=\"convertToInteractive('df-ad217c9f-9930-4f7f-9af3-d2b51edbcb6c')\"\n",
              "              title=\"Convert this dataframe to an interactive table.\"\n",
              "              style=\"display:none;\">\n",
              "        \n",
              "  <svg xmlns=\"http://www.w3.org/2000/svg\" height=\"24px\"viewBox=\"0 0 24 24\"\n",
              "       width=\"24px\">\n",
              "    <path d=\"M0 0h24v24H0V0z\" fill=\"none\"/>\n",
              "    <path d=\"M18.56 5.44l.94 2.06.94-2.06 2.06-.94-2.06-.94-.94-2.06-.94 2.06-2.06.94zm-11 1L8.5 8.5l.94-2.06 2.06-.94-2.06-.94L8.5 2.5l-.94 2.06-2.06.94zm10 10l.94 2.06.94-2.06 2.06-.94-2.06-.94-.94-2.06-.94 2.06-2.06.94z\"/><path d=\"M17.41 7.96l-1.37-1.37c-.4-.4-.92-.59-1.43-.59-.52 0-1.04.2-1.43.59L10.3 9.45l-7.72 7.72c-.78.78-.78 2.05 0 2.83L4 21.41c.39.39.9.59 1.41.59.51 0 1.02-.2 1.41-.59l7.78-7.78 2.81-2.81c.8-.78.8-2.07 0-2.86zM5.41 20L4 18.59l7.72-7.72 1.47 1.35L5.41 20z\"/>\n",
              "  </svg>\n",
              "      </button>\n",
              "      \n",
              "  <style>\n",
              "    .colab-df-container {\n",
              "      display:flex;\n",
              "      flex-wrap:wrap;\n",
              "      gap: 12px;\n",
              "    }\n",
              "\n",
              "    .colab-df-convert {\n",
              "      background-color: #E8F0FE;\n",
              "      border: none;\n",
              "      border-radius: 50%;\n",
              "      cursor: pointer;\n",
              "      display: none;\n",
              "      fill: #1967D2;\n",
              "      height: 32px;\n",
              "      padding: 0 0 0 0;\n",
              "      width: 32px;\n",
              "    }\n",
              "\n",
              "    .colab-df-convert:hover {\n",
              "      background-color: #E2EBFA;\n",
              "      box-shadow: 0px 1px 2px rgba(60, 64, 67, 0.3), 0px 1px 3px 1px rgba(60, 64, 67, 0.15);\n",
              "      fill: #174EA6;\n",
              "    }\n",
              "\n",
              "    [theme=dark] .colab-df-convert {\n",
              "      background-color: #3B4455;\n",
              "      fill: #D2E3FC;\n",
              "    }\n",
              "\n",
              "    [theme=dark] .colab-df-convert:hover {\n",
              "      background-color: #434B5C;\n",
              "      box-shadow: 0px 1px 3px 1px rgba(0, 0, 0, 0.15);\n",
              "      filter: drop-shadow(0px 1px 2px rgba(0, 0, 0, 0.3));\n",
              "      fill: #FFFFFF;\n",
              "    }\n",
              "  </style>\n",
              "\n",
              "      <script>\n",
              "        const buttonEl =\n",
              "          document.querySelector('#df-ad217c9f-9930-4f7f-9af3-d2b51edbcb6c button.colab-df-convert');\n",
              "        buttonEl.style.display =\n",
              "          google.colab.kernel.accessAllowed ? 'block' : 'none';\n",
              "\n",
              "        async function convertToInteractive(key) {\n",
              "          const element = document.querySelector('#df-ad217c9f-9930-4f7f-9af3-d2b51edbcb6c');\n",
              "          const dataTable =\n",
              "            await google.colab.kernel.invokeFunction('convertToInteractive',\n",
              "                                                     [key], {});\n",
              "          if (!dataTable) return;\n",
              "\n",
              "          const docLinkHtml = 'Like what you see? Visit the ' +\n",
              "            '<a target=\"_blank\" href=https://colab.research.google.com/notebooks/data_table.ipynb>data table notebook</a>'\n",
              "            + ' to learn more about interactive tables.';\n",
              "          element.innerHTML = '';\n",
              "          dataTable['output_type'] = 'display_data';\n",
              "          await google.colab.output.renderOutput(dataTable, element);\n",
              "          const docLink = document.createElement('div');\n",
              "          docLink.innerHTML = docLinkHtml;\n",
              "          element.appendChild(docLink);\n",
              "        }\n",
              "      </script>\n",
              "    </div>\n",
              "  </div>\n",
              "  "
            ]
          },
          "metadata": {},
          "execution_count": 33
        }
      ]
    },
    {
      "cell_type": "markdown",
      "source": [
        "DATA CLEANING"
      ],
      "metadata": {
        "id": "4KatV15lYeB7"
      }
    },
    {
      "cell_type": "markdown",
      "source": [
        "Checking for the null values present in the dataset column-wise."
      ],
      "metadata": {
        "id": "kjnnxs0vYivU"
      }
    },
    {
      "cell_type": "code",
      "source": [
        "df.isna().sum()"
      ],
      "metadata": {
        "colab": {
          "base_uri": "https://localhost:8080/"
        },
        "id": "gjKUHo11YMEP",
        "outputId": "a5d8f224-81a1-45e0-df7d-ce48f1c34d63"
      },
      "execution_count": null,
      "outputs": [
        {
          "output_type": "execute_result",
          "data": {
            "text/plain": [
              "State Code                             0\n",
              "District Code                          0\n",
              "India/States                           0\n",
              "Division                               0\n",
              "Group                                  0\n",
              "Class                                  0\n",
              "NIC Name                               0\n",
              "Main Workers - Total -  Persons        0\n",
              "Main Workers - Total - Males           0\n",
              "Main Workers - Total - Females         0\n",
              "Main Workers - Rural -  Persons        0\n",
              "Main Workers - Rural - Males           0\n",
              "Main Workers - Rural - Females         0\n",
              "Main Workers - Urban -  Persons        0\n",
              "Main Workers - Urban - Males           0\n",
              "Main Workers - Urban - Females         0\n",
              "Marginal Workers - Total -  Persons    0\n",
              "Marginal Workers - Total - Males       0\n",
              "Marginal Workers - Total - Females     0\n",
              "Marginal Workers - Rural -  Persons    0\n",
              "Marginal Workers - Rural - Males       0\n",
              "Marginal Workers - Rural - Females     0\n",
              "Marginal Workers - Urban -  Persons    0\n",
              "Marginal Workers - Urban - Males       0\n",
              "Marginal Workers - Urban - Females     0\n",
              "sourcefilename                         0\n",
              "dtype: int64"
            ]
          },
          "metadata": {},
          "execution_count": 34
        }
      ]
    },
    {
      "cell_type": "markdown",
      "source": [
        "Cheking for the duplicated values"
      ],
      "metadata": {
        "id": "5Qbtmw6hY9bC"
      }
    },
    {
      "cell_type": "code",
      "source": [
        "df.duplicated()"
      ],
      "metadata": {
        "colab": {
          "base_uri": "https://localhost:8080/"
        },
        "id": "o3Oz7lzqZDxZ",
        "outputId": "95df78ff-9ef6-4c13-fb6a-458bfb1c32f8"
      },
      "execution_count": null,
      "outputs": [
        {
          "output_type": "execute_result",
          "data": {
            "text/plain": [
              "0        False\n",
              "1        False\n",
              "2        False\n",
              "3        False\n",
              "4        False\n",
              "         ...  \n",
              "11071    False\n",
              "11072    False\n",
              "11073    False\n",
              "11074    False\n",
              "11075    False\n",
              "Length: 195145, dtype: bool"
            ]
          },
          "metadata": {},
          "execution_count": 35
        }
      ]
    },
    {
      "cell_type": "code",
      "source": [
        "df.shape"
      ],
      "metadata": {
        "colab": {
          "base_uri": "https://localhost:8080/"
        },
        "id": "lttbV6eMn2lW",
        "outputId": "45756b59-5057-4561-b9d2-f7ff1b7ee371"
      },
      "execution_count": null,
      "outputs": [
        {
          "output_type": "execute_result",
          "data": {
            "text/plain": [
              "(195145, 26)"
            ]
          },
          "metadata": {},
          "execution_count": 36
        }
      ]
    },
    {
      "cell_type": "code",
      "source": [
        "df.info()"
      ],
      "metadata": {
        "colab": {
          "base_uri": "https://localhost:8080/"
        },
        "id": "efyausLba47H",
        "outputId": "930ce3d6-3058-49c7-ad1d-c0f2105e74f3"
      },
      "execution_count": null,
      "outputs": [
        {
          "output_type": "stream",
          "name": "stdout",
          "text": [
            "<class 'pandas.core.frame.DataFrame'>\n",
            "Int64Index: 195145 entries, 0 to 11075\n",
            "Data columns (total 26 columns):\n",
            " #   Column                               Non-Null Count   Dtype \n",
            "---  ------                               --------------   ----- \n",
            " 0   State Code                           195145 non-null  object\n",
            " 1   District Code                        195145 non-null  object\n",
            " 2   India/States                         195145 non-null  object\n",
            " 3   Division                             195145 non-null  object\n",
            " 4   Group                                195145 non-null  object\n",
            " 5   Class                                195145 non-null  object\n",
            " 6   NIC Name                             195145 non-null  object\n",
            " 7   Main Workers - Total -  Persons      195145 non-null  int64 \n",
            " 8   Main Workers - Total - Males         195145 non-null  int64 \n",
            " 9   Main Workers - Total - Females       195145 non-null  int64 \n",
            " 10  Main Workers - Rural -  Persons      195145 non-null  int64 \n",
            " 11  Main Workers - Rural - Males         195145 non-null  int64 \n",
            " 12  Main Workers - Rural - Females       195145 non-null  int64 \n",
            " 13  Main Workers - Urban -  Persons      195145 non-null  int64 \n",
            " 14  Main Workers - Urban - Males         195145 non-null  int64 \n",
            " 15  Main Workers - Urban - Females       195145 non-null  int64 \n",
            " 16  Marginal Workers - Total -  Persons  195145 non-null  int64 \n",
            " 17  Marginal Workers - Total - Males     195145 non-null  int64 \n",
            " 18  Marginal Workers - Total - Females   195145 non-null  int64 \n",
            " 19  Marginal Workers - Rural -  Persons  195145 non-null  int64 \n",
            " 20  Marginal Workers - Rural - Males     195145 non-null  int64 \n",
            " 21  Marginal Workers - Rural - Females   195145 non-null  int64 \n",
            " 22  Marginal Workers - Urban -  Persons  195145 non-null  int64 \n",
            " 23  Marginal Workers - Urban - Males     195145 non-null  int64 \n",
            " 24  Marginal Workers - Urban - Females   195145 non-null  int64 \n",
            " 25  sourcefilename                       195145 non-null  object\n",
            "dtypes: int64(18), object(8)\n",
            "memory usage: 40.2+ MB\n"
          ]
        }
      ]
    },
    {
      "cell_type": "markdown",
      "source": [
        "Dropping Unwanted Columns"
      ],
      "metadata": {
        "id": "iLt2n-ETbMPy"
      }
    },
    {
      "cell_type": "code",
      "source": [
        "df.drop(['State Code'], axis=1, inplace=True)"
      ],
      "metadata": {
        "id": "0d7wJaAabSTD"
      },
      "execution_count": null,
      "outputs": []
    },
    {
      "cell_type": "code",
      "source": [
        "df.drop(['District Code'], axis=1, inplace=True)"
      ],
      "metadata": {
        "id": "UmL231qtchi1"
      },
      "execution_count": null,
      "outputs": []
    },
    {
      "cell_type": "code",
      "source": [
        "df.drop(['Group'], axis=1, inplace=True)"
      ],
      "metadata": {
        "id": "8uIQMxM3cqtY"
      },
      "execution_count": null,
      "outputs": []
    },
    {
      "cell_type": "code",
      "source": [
        "dforiginal=df.copy()"
      ],
      "metadata": {
        "id": "VywYnBvMoBXW"
      },
      "execution_count": null,
      "outputs": []
    },
    {
      "cell_type": "markdown",
      "source": [
        "Dropping the duplicates in the NIC column"
      ],
      "metadata": {
        "id": "ssWJDrG4ocjm"
      }
    },
    {
      "cell_type": "code",
      "source": [
        "df.drop_duplicates(subset=['NIC Name'], inplace=True)"
      ],
      "metadata": {
        "id": "Do6iMv0qoUgN"
      },
      "execution_count": null,
      "outputs": []
    },
    {
      "cell_type": "code",
      "source": [
        "df['NIC Name'].shape"
      ],
      "metadata": {
        "colab": {
          "base_uri": "https://localhost:8080/"
        },
        "id": "mmwoudyWozgF",
        "outputId": "d04b1829-9b2a-415f-ffcb-c23bb9f028f2"
      },
      "execution_count": null,
      "outputs": [
        {
          "output_type": "execute_result",
          "data": {
            "text/plain": [
              "(587,)"
            ]
          },
          "metadata": {},
          "execution_count": 42
        }
      ]
    },
    {
      "cell_type": "markdown",
      "source": [
        "natural language processing"
      ],
      "metadata": {
        "id": "3O_vAlw7o9i2"
      }
    },
    {
      "cell_type": "markdown",
      "source": [
        "Remove Punctuation"
      ],
      "metadata": {
        "id": "FbGUEqEFpFm-"
      }
    },
    {
      "cell_type": "code",
      "source": [
        "df['NIC Name_data'] = df['NIC Name'].str.replace(\"[^a-zA-Z0-9]\", \" \")"
      ],
      "metadata": {
        "colab": {
          "base_uri": "https://localhost:8080/"
        },
        "id": "U89v0LOvpDuQ",
        "outputId": "c473e43f-9fb2-4b51-b548-08bb381b7c32"
      },
      "execution_count": null,
      "outputs": [
        {
          "output_type": "stream",
          "name": "stderr",
          "text": [
            "<ipython-input-43-001e8aa4d88b>:1: FutureWarning: The default value of regex will change from True to False in a future version.\n",
            "  df['NIC Name_data'] = df['NIC Name'].str.replace(\"[^a-zA-Z0-9]\", \" \")\n"
          ]
        }
      ]
    },
    {
      "cell_type": "code",
      "source": [
        "df = df[['NIC Name_data']]"
      ],
      "metadata": {
        "id": "PHzIvsIjpb5o"
      },
      "execution_count": null,
      "outputs": []
    },
    {
      "cell_type": "code",
      "source": [
        "df['NIC Name_data']"
      ],
      "metadata": {
        "colab": {
          "base_uri": "https://localhost:8080/"
        },
        "id": "1SLfssubphPI",
        "outputId": "426444bb-d7ec-412c-c84e-1c2837f04ecc"
      },
      "execution_count": null,
      "outputs": [
        {
          "output_type": "execute_result",
          "data": {
            "text/plain": [
              "0                                                  Total\n",
              "1      Crop and animal production  hunting and relate...\n",
              "2                         Growing of non perennial crops\n",
              "3      Growing of cereals  except rice   leguminous c...\n",
              "4                                        Growing of rice\n",
              "                             ...                        \n",
              "592    Renting and leasing of recreational and sports...\n",
              "314        Treatment and disposal of non hazardous waste\n",
              "587                                           Blank etc \n",
              "334                                   Materials recovery\n",
              "67                    Mining of uranium and thorium ores\n",
              "Name: NIC Name_data, Length: 587, dtype: object"
            ]
          },
          "metadata": {},
          "execution_count": 45
        }
      ]
    },
    {
      "cell_type": "code",
      "source": [
        "df['NIC Name_data'] = df['NIC Name_data'].fillna(\"\")"
      ],
      "metadata": {
        "id": "ffY61Qxtpq7D"
      },
      "execution_count": null,
      "outputs": []
    },
    {
      "cell_type": "markdown",
      "source": [
        "Replacing the short words"
      ],
      "metadata": {
        "id": "Rqh2ANWZqEpX"
      }
    },
    {
      "cell_type": "code",
      "source": [
        "df['NIC Name_data'] = df['NIC Name_data'].apply(lambda x: ' '.join([w for w in x.split() if len(w)>2]))"
      ],
      "metadata": {
        "id": "wfUloCnHqI1U"
      },
      "execution_count": null,
      "outputs": []
    },
    {
      "cell_type": "code",
      "source": [
        "df['NIC Name_data']"
      ],
      "metadata": {
        "colab": {
          "base_uri": "https://localhost:8080/"
        },
        "id": "CIIjhyc0qUFV",
        "outputId": "09fb9b91-7cf7-40d5-a856-552b70e8ba6e"
      },
      "execution_count": null,
      "outputs": [
        {
          "output_type": "execute_result",
          "data": {
            "text/plain": [
              "0                                                  Total\n",
              "1      Crop and animal production hunting and related...\n",
              "2                            Growing non perennial crops\n",
              "3      Growing cereals except rice leguminous crops a...\n",
              "4                                           Growing rice\n",
              "                             ...                        \n",
              "592    Renting and leasing recreational and sports goods\n",
              "314           Treatment and disposal non hazardous waste\n",
              "587                                            Blank etc\n",
              "334                                   Materials recovery\n",
              "67                       Mining uranium and thorium ores\n",
              "Name: NIC Name_data, Length: 587, dtype: object"
            ]
          },
          "metadata": {},
          "execution_count": 48
        }
      ]
    },
    {
      "cell_type": "code",
      "source": [
        "df['NIC Name_data'] = [rev.lower() for rev in df['NIC Name_data']]"
      ],
      "metadata": {
        "id": "h3lKAdo5qh0o"
      },
      "execution_count": null,
      "outputs": []
    },
    {
      "cell_type": "code",
      "source": [
        "df['NIC Name_data']"
      ],
      "metadata": {
        "colab": {
          "base_uri": "https://localhost:8080/"
        },
        "id": "WnKdHiVnqwFP",
        "outputId": "bdc5d852-2f3e-4b9f-874d-5f0a81cb288f"
      },
      "execution_count": null,
      "outputs": [
        {
          "output_type": "execute_result",
          "data": {
            "text/plain": [
              "0                                                  total\n",
              "1      crop and animal production hunting and related...\n",
              "2                            growing non perennial crops\n",
              "3      growing cereals except rice leguminous crops a...\n",
              "4                                           growing rice\n",
              "                             ...                        \n",
              "592    renting and leasing recreational and sports goods\n",
              "314           treatment and disposal non hazardous waste\n",
              "587                                            blank etc\n",
              "334                                   materials recovery\n",
              "67                       mining uranium and thorium ores\n",
              "Name: NIC Name_data, Length: 587, dtype: object"
            ]
          },
          "metadata": {},
          "execution_count": 50
        }
      ]
    },
    {
      "cell_type": "markdown",
      "source": [
        "Remove stopwords"
      ],
      "metadata": {
        "id": "qRQ1jmudq7eO"
      }
    },
    {
      "cell_type": "code",
      "source": [
        "import nltk\n",
        "nltk.download('punkt')\n",
        "nltk.download('stopwords')\n",
        "from nltk.corpus import stopwords\n",
        "from nltk import word_tokenize\n",
        "stop_words = stopwords.words('english')\n",
        "\n",
        "def remove_stopwords(des):\n",
        "  description_tokenized = word_tokenize(des)\n",
        "  des_new = \" \".join([i for i in description_tokenized if i not in stop_words])\n",
        "  return des_new\n",
        "\n",
        "df['NIC Name_data'] = [remove_stopwords(r) for r in df['NIC Name_data']]"
      ],
      "metadata": {
        "colab": {
          "base_uri": "https://localhost:8080/"
        },
        "id": "8txvixYDq8as",
        "outputId": "993c4b83-5c40-4ee4-dd5e-3d756b750319"
      },
      "execution_count": null,
      "outputs": [
        {
          "output_type": "stream",
          "name": "stderr",
          "text": [
            "[nltk_data] Downloading package punkt to /root/nltk_data...\n",
            "[nltk_data]   Unzipping tokenizers/punkt.zip.\n",
            "[nltk_data] Downloading package stopwords to /root/nltk_data...\n",
            "[nltk_data]   Unzipping corpora/stopwords.zip.\n"
          ]
        }
      ]
    },
    {
      "cell_type": "code",
      "source": [
        "df['NIC Name_data']"
      ],
      "metadata": {
        "colab": {
          "base_uri": "https://localhost:8080/"
        },
        "id": "R20lFpx9rVoo",
        "outputId": "b443e689-6893-40fb-e5b7-aad1a83809fc"
      },
      "execution_count": null,
      "outputs": [
        {
          "output_type": "execute_result",
          "data": {
            "text/plain": [
              "0                                                  total\n",
              "1      crop animal production hunting related service...\n",
              "2                            growing non perennial crops\n",
              "3      growing cereals except rice leguminous crops o...\n",
              "4                                           growing rice\n",
              "                             ...                        \n",
              "592            renting leasing recreational sports goods\n",
              "314               treatment disposal non hazardous waste\n",
              "587                                            blank etc\n",
              "334                                   materials recovery\n",
              "67                           mining uranium thorium ores\n",
              "Name: NIC Name_data, Length: 587, dtype: object"
            ]
          },
          "metadata": {},
          "execution_count": 52
        }
      ]
    },
    {
      "cell_type": "code",
      "source": [
        "!pip install nltk"
      ],
      "metadata": {
        "colab": {
          "base_uri": "https://localhost:8080/"
        },
        "id": "0EfqwC6nszkb",
        "outputId": "df047622-1c8b-4797-9a2d-5aa5c6bf53f0"
      },
      "execution_count": null,
      "outputs": [
        {
          "output_type": "stream",
          "name": "stdout",
          "text": [
            "Looking in indexes: https://pypi.org/simple, https://us-python.pkg.dev/colab-wheels/public/simple/\n",
            "Requirement already satisfied: nltk in /usr/local/lib/python3.10/dist-packages (3.8.1)\n",
            "Requirement already satisfied: click in /usr/local/lib/python3.10/dist-packages (from nltk) (8.1.3)\n",
            "Requirement already satisfied: joblib in /usr/local/lib/python3.10/dist-packages (from nltk) (1.2.0)\n",
            "Requirement already satisfied: regex>=2021.8.3 in /usr/local/lib/python3.10/dist-packages (from nltk) (2022.10.31)\n",
            "Requirement already satisfied: tqdm in /usr/local/lib/python3.10/dist-packages (from nltk) (4.65.0)\n"
          ]
        }
      ]
    },
    {
      "cell_type": "code",
      "source": [
        "import nltk"
      ],
      "metadata": {
        "id": "G92z7YTqvrnE"
      },
      "execution_count": null,
      "outputs": []
    },
    {
      "cell_type": "markdown",
      "source": [
        "Lemmatization"
      ],
      "metadata": {
        "id": "9bXxEKeLreGR"
      }
    },
    {
      "cell_type": "code",
      "source": [
        "nltk.download('wordnet')\n",
        "from nltk.stem import WordNetLemmatizer\n",
        "from nltk.corpus import wordnet\n",
        "nltk.download('averaged_perceptron_tagger')\n",
        "\n",
        "lemmatizer = WordNetLemmatizer()\n",
        "\n",
        "def nltk_tag_to_wordnet_tag(nltk_tag):\n",
        "  if nltk_tag.startswith('J'):\n",
        "    return wordnet.ADJ\n",
        "  elif nltk_tag.startswith('V'):\n",
        "    return wordnet.VERB\n",
        "  elif nltk_tag.startswith('N'):\n",
        "    return wordnet.NOUN\n",
        "  elif nltk_tag.startswith('R'):\n",
        "    return wordnet.ADV\n",
        "  else:\n",
        "    return None\n",
        "\n",
        "def lemmatize_sentence(sentence):\n",
        "  nltk_tagged = nltk.pos_tag(nltk.word_tokenize(sentence))\n",
        "  wordnet_tagged = map(lambda x: (x[0], nltk_tag_to_wordnet_tag(x[1])), nltk_tagged)\n",
        "  lemmatized_sentence = []\n",
        "  for word, tag in wordnet_tagged:\n",
        "    if tag is None:\n",
        "      lemmatized_sentence.append(word)\n",
        "    else:\n",
        "      lemmatized_sentence.append(lemmatizer.lemmatize(word,tag))\n",
        "  return \" \".join(lemmatized_sentence)\n",
        "  df['NIC Name_data'] = df['NIC Name_data'].apply(lambda x: lemmatize_sentence(x))\n"
      ],
      "metadata": {
        "colab": {
          "base_uri": "https://localhost:8080/"
        },
        "id": "1rUxU0uErgS8",
        "outputId": "087d056d-3646-4a1a-bf99-f9bd246958d0"
      },
      "execution_count": null,
      "outputs": [
        {
          "output_type": "stream",
          "name": "stderr",
          "text": [
            "[nltk_data] Downloading package wordnet to /root/nltk_data...\n",
            "[nltk_data] Downloading package averaged_perceptron_tagger to\n",
            "[nltk_data]     /root/nltk_data...\n",
            "[nltk_data]   Unzipping taggers/averaged_perceptron_tagger.zip.\n"
          ]
        }
      ]
    },
    {
      "cell_type": "code",
      "source": [
        "df"
      ],
      "metadata": {
        "colab": {
          "base_uri": "https://localhost:8080/",
          "height": 424
        },
        "id": "GsvJkJy2yFxR",
        "outputId": "b8dca056-6689-4584-969c-bec972ce30c8"
      },
      "execution_count": null,
      "outputs": [
        {
          "output_type": "execute_result",
          "data": {
            "text/plain": [
              "                                         NIC Name_data\n",
              "0                                                total\n",
              "1    crop animal production hunting related service...\n",
              "2                          growing non perennial crops\n",
              "3    growing cereals except rice leguminous crops o...\n",
              "4                                         growing rice\n",
              "..                                                 ...\n",
              "592          renting leasing recreational sports goods\n",
              "314             treatment disposal non hazardous waste\n",
              "587                                          blank etc\n",
              "334                                 materials recovery\n",
              "67                         mining uranium thorium ores\n",
              "\n",
              "[587 rows x 1 columns]"
            ],
            "text/html": [
              "\n",
              "  <div id=\"df-3e641f6f-5937-4589-a595-c564d0cfba7c\">\n",
              "    <div class=\"colab-df-container\">\n",
              "      <div>\n",
              "<style scoped>\n",
              "    .dataframe tbody tr th:only-of-type {\n",
              "        vertical-align: middle;\n",
              "    }\n",
              "\n",
              "    .dataframe tbody tr th {\n",
              "        vertical-align: top;\n",
              "    }\n",
              "\n",
              "    .dataframe thead th {\n",
              "        text-align: right;\n",
              "    }\n",
              "</style>\n",
              "<table border=\"1\" class=\"dataframe\">\n",
              "  <thead>\n",
              "    <tr style=\"text-align: right;\">\n",
              "      <th></th>\n",
              "      <th>NIC Name_data</th>\n",
              "    </tr>\n",
              "  </thead>\n",
              "  <tbody>\n",
              "    <tr>\n",
              "      <th>0</th>\n",
              "      <td>total</td>\n",
              "    </tr>\n",
              "    <tr>\n",
              "      <th>1</th>\n",
              "      <td>crop animal production hunting related service...</td>\n",
              "    </tr>\n",
              "    <tr>\n",
              "      <th>2</th>\n",
              "      <td>growing non perennial crops</td>\n",
              "    </tr>\n",
              "    <tr>\n",
              "      <th>3</th>\n",
              "      <td>growing cereals except rice leguminous crops o...</td>\n",
              "    </tr>\n",
              "    <tr>\n",
              "      <th>4</th>\n",
              "      <td>growing rice</td>\n",
              "    </tr>\n",
              "    <tr>\n",
              "      <th>...</th>\n",
              "      <td>...</td>\n",
              "    </tr>\n",
              "    <tr>\n",
              "      <th>592</th>\n",
              "      <td>renting leasing recreational sports goods</td>\n",
              "    </tr>\n",
              "    <tr>\n",
              "      <th>314</th>\n",
              "      <td>treatment disposal non hazardous waste</td>\n",
              "    </tr>\n",
              "    <tr>\n",
              "      <th>587</th>\n",
              "      <td>blank etc</td>\n",
              "    </tr>\n",
              "    <tr>\n",
              "      <th>334</th>\n",
              "      <td>materials recovery</td>\n",
              "    </tr>\n",
              "    <tr>\n",
              "      <th>67</th>\n",
              "      <td>mining uranium thorium ores</td>\n",
              "    </tr>\n",
              "  </tbody>\n",
              "</table>\n",
              "<p>587 rows × 1 columns</p>\n",
              "</div>\n",
              "      <button class=\"colab-df-convert\" onclick=\"convertToInteractive('df-3e641f6f-5937-4589-a595-c564d0cfba7c')\"\n",
              "              title=\"Convert this dataframe to an interactive table.\"\n",
              "              style=\"display:none;\">\n",
              "        \n",
              "  <svg xmlns=\"http://www.w3.org/2000/svg\" height=\"24px\"viewBox=\"0 0 24 24\"\n",
              "       width=\"24px\">\n",
              "    <path d=\"M0 0h24v24H0V0z\" fill=\"none\"/>\n",
              "    <path d=\"M18.56 5.44l.94 2.06.94-2.06 2.06-.94-2.06-.94-.94-2.06-.94 2.06-2.06.94zm-11 1L8.5 8.5l.94-2.06 2.06-.94-2.06-.94L8.5 2.5l-.94 2.06-2.06.94zm10 10l.94 2.06.94-2.06 2.06-.94-2.06-.94-.94-2.06-.94 2.06-2.06.94z\"/><path d=\"M17.41 7.96l-1.37-1.37c-.4-.4-.92-.59-1.43-.59-.52 0-1.04.2-1.43.59L10.3 9.45l-7.72 7.72c-.78.78-.78 2.05 0 2.83L4 21.41c.39.39.9.59 1.41.59.51 0 1.02-.2 1.41-.59l7.78-7.78 2.81-2.81c.8-.78.8-2.07 0-2.86zM5.41 20L4 18.59l7.72-7.72 1.47 1.35L5.41 20z\"/>\n",
              "  </svg>\n",
              "      </button>\n",
              "      \n",
              "  <style>\n",
              "    .colab-df-container {\n",
              "      display:flex;\n",
              "      flex-wrap:wrap;\n",
              "      gap: 12px;\n",
              "    }\n",
              "\n",
              "    .colab-df-convert {\n",
              "      background-color: #E8F0FE;\n",
              "      border: none;\n",
              "      border-radius: 50%;\n",
              "      cursor: pointer;\n",
              "      display: none;\n",
              "      fill: #1967D2;\n",
              "      height: 32px;\n",
              "      padding: 0 0 0 0;\n",
              "      width: 32px;\n",
              "    }\n",
              "\n",
              "    .colab-df-convert:hover {\n",
              "      background-color: #E2EBFA;\n",
              "      box-shadow: 0px 1px 2px rgba(60, 64, 67, 0.3), 0px 1px 3px 1px rgba(60, 64, 67, 0.15);\n",
              "      fill: #174EA6;\n",
              "    }\n",
              "\n",
              "    [theme=dark] .colab-df-convert {\n",
              "      background-color: #3B4455;\n",
              "      fill: #D2E3FC;\n",
              "    }\n",
              "\n",
              "    [theme=dark] .colab-df-convert:hover {\n",
              "      background-color: #434B5C;\n",
              "      box-shadow: 0px 1px 3px 1px rgba(0, 0, 0, 0.15);\n",
              "      filter: drop-shadow(0px 1px 2px rgba(0, 0, 0, 0.3));\n",
              "      fill: #FFFFFF;\n",
              "    }\n",
              "  </style>\n",
              "\n",
              "      <script>\n",
              "        const buttonEl =\n",
              "          document.querySelector('#df-3e641f6f-5937-4589-a595-c564d0cfba7c button.colab-df-convert');\n",
              "        buttonEl.style.display =\n",
              "          google.colab.kernel.accessAllowed ? 'block' : 'none';\n",
              "\n",
              "        async function convertToInteractive(key) {\n",
              "          const element = document.querySelector('#df-3e641f6f-5937-4589-a595-c564d0cfba7c');\n",
              "          const dataTable =\n",
              "            await google.colab.kernel.invokeFunction('convertToInteractive',\n",
              "                                                     [key], {});\n",
              "          if (!dataTable) return;\n",
              "\n",
              "          const docLinkHtml = 'Like what you see? Visit the ' +\n",
              "            '<a target=\"_blank\" href=https://colab.research.google.com/notebooks/data_table.ipynb>data table notebook</a>'\n",
              "            + ' to learn more about interactive tables.';\n",
              "          element.innerHTML = '';\n",
              "          dataTable['output_type'] = 'display_data';\n",
              "          await google.colab.output.renderOutput(dataTable, element);\n",
              "          const docLink = document.createElement('div');\n",
              "          docLink.innerHTML = docLinkHtml;\n",
              "          element.appendChild(docLink);\n",
              "        }\n",
              "      </script>\n",
              "    </div>\n",
              "  </div>\n",
              "  "
            ]
          },
          "metadata": {},
          "execution_count": 56
        }
      ]
    },
    {
      "cell_type": "markdown",
      "source": [
        "EDA"
      ],
      "metadata": {
        "id": "Lqijd4EwvHDj"
      }
    },
    {
      "cell_type": "code",
      "source": [
        "import matplotlib.pyplot as plt\n",
        "import seaborn as sns\n",
        "sns.set(style = 'white')\n",
        "from nltk import FreqDist\n",
        "\n",
        "all_words = ' '.join([text for text in df['NIC Name_data']])\n",
        "all_words = all_words.split()\n",
        "words_df = FreqDist(all_words)\n",
        "words_df = pd.DataFrame({'word':list(words_df.keys()), 'count':list(words_df.values())})\n",
        "words_df\n",
        "words_df = words_df.nlargest(columns=\"count\", n = 20)\n",
        "words_df.sort_values('count', inplace = True)\n",
        "plt.figure(figsize=(20,5))\n",
        "ax = plt.barh(words_df['word'], width = words_df['count'])\n",
        "plt.show()"
      ],
      "metadata": {
        "colab": {
          "base_uri": "https://localhost:8080/",
          "height": 337
        },
        "id": "mlmzcmuzvaXT",
        "outputId": "f454bbb0-76a7-4aa5-d046-30127b818ee7"
      },
      "execution_count": null,
      "outputs": [
        {
          "output_type": "display_data",
          "data": {
            "text/plain": [
              "<Figure size 2000x500 with 1 Axes>"
            ],
            "image/png": "[encoded data removed]"
          },
          "metadata": {}
        }
      ]
    },
    {
      "cell_type": "markdown",
      "source": [
        "In bag of words we're using TFIDF to convert NIC Name column to Numbers"
      ],
      "metadata": {
        "id": "ZD2-pFC7ySMU"
      }
    },
    {
      "cell_type": "code",
      "source": [
        "from sklearn.feature_extraction.text import TfidfVectorizer\n",
        "tfidf = TfidfVectorizer()\n",
        "feature = tfidf.fit_transform(df['NIC Name_data']).toarray()\n",
        "featureNames = tfidf.get_feature_names_out()"
      ],
      "metadata": {
        "id": "TW7rrj20ya9T"
      },
      "execution_count": null,
      "outputs": []
    },
    {
      "cell_type": "code",
      "source": [
        "feature"
      ],
      "metadata": {
        "colab": {
          "base_uri": "https://localhost:8080/"
        },
        "id": "GqlYNFJwzJ5e",
        "outputId": "67141c2a-696b-4dc9-9f7d-b38ef4f25796"
      },
      "execution_count": null,
      "outputs": [
        {
          "output_type": "execute_result",
          "data": {
            "text/plain": [
              "array([[0., 0., 0., ..., 0., 0., 0.],\n",
              "       [0., 0., 0., ..., 0., 0., 0.],\n",
              "       [0., 0., 0., ..., 0., 0., 0.],\n",
              "       ...,\n",
              "       [0., 0., 0., ..., 0., 0., 0.],\n",
              "       [0., 0., 0., ..., 0., 0., 0.],\n",
              "       [0., 0., 0., ..., 0., 0., 0.]])"
            ]
          },
          "metadata": {},
          "execution_count": 61
        }
      ]
    },
    {
      "cell_type": "markdown",
      "source": [
        "we are importing kmeans which is unsupervised learning"
      ],
      "metadata": {
        "id": "6i6C4iwU0szv"
      }
    },
    {
      "cell_type": "code",
      "source": [
        "from sklearn.cluster import KMeans\n",
        "from sklearn.preprocessing import StandardScaler"
      ],
      "metadata": {
        "id": "CDnzsIV00xVp"
      },
      "execution_count": null,
      "outputs": []
    },
    {
      "cell_type": "code",
      "source": [
        "contat = []\n",
        "list_k = list(range(1, 10))\n",
        "for k in list_k:\n",
        "  km = KMeans(n_clusters=5)\n",
        "  km.fit(feature)\n",
        "  contat.append(km.inertia_)\n",
        "plt.figure(figsize=(6,6))\n",
        "plt.plot(list_k, contat, '-o')\n",
        "plt.xlabel(r'Number of clusters')\n",
        "plt.ylabel('inertia');\n",
        "plt.show()"
      ],
      "metadata": {
        "colab": {
          "base_uri": "https://localhost:8080/",
          "height": 882
        },
        "id": "1UFmITm202yO",
        "outputId": "b8260ba7-aab1-4d55-e9e7-e7a938050697"
      },
      "execution_count": null,
      "outputs": [
        {
          "output_type": "stream",
          "name": "stderr",
          "text": [
            "/usr/local/lib/python3.10/dist-packages/sklearn/cluster/_kmeans.py:870: FutureWarning: The default value of `n_init` will change from 10 to 'auto' in 1.4. Set the value of `n_init` explicitly to suppress the warning\n",
            "  warnings.warn(\n",
            "/usr/local/lib/python3.10/dist-packages/sklearn/cluster/_kmeans.py:870: FutureWarning: The default value of `n_init` will change from 10 to 'auto' in 1.4. Set the value of `n_init` explicitly to suppress the warning\n",
            "  warnings.warn(\n",
            "/usr/local/lib/python3.10/dist-packages/sklearn/cluster/_kmeans.py:870: FutureWarning: The default value of `n_init` will change from 10 to 'auto' in 1.4. Set the value of `n_init` explicitly to suppress the warning\n",
            "  warnings.warn(\n",
            "/usr/local/lib/python3.10/dist-packages/sklearn/cluster/_kmeans.py:870: FutureWarning: The default value of `n_init` will change from 10 to 'auto' in 1.4. Set the value of `n_init` explicitly to suppress the warning\n",
            "  warnings.warn(\n",
            "/usr/local/lib/python3.10/dist-packages/sklearn/cluster/_kmeans.py:870: FutureWarning: The default value of `n_init` will change from 10 to 'auto' in 1.4. Set the value of `n_init` explicitly to suppress the warning\n",
            "  warnings.warn(\n",
            "/usr/local/lib/python3.10/dist-packages/sklearn/cluster/_kmeans.py:870: FutureWarning: The default value of `n_init` will change from 10 to 'auto' in 1.4. Set the value of `n_init` explicitly to suppress the warning\n",
            "  warnings.warn(\n",
            "/usr/local/lib/python3.10/dist-packages/sklearn/cluster/_kmeans.py:870: FutureWarning: The default value of `n_init` will change from 10 to 'auto' in 1.4. Set the value of `n_init` explicitly to suppress the warning\n",
            "  warnings.warn(\n",
            "/usr/local/lib/python3.10/dist-packages/sklearn/cluster/_kmeans.py:870: FutureWarning: The default value of `n_init` will change from 10 to 'auto' in 1.4. Set the value of `n_init` explicitly to suppress the warning\n",
            "  warnings.warn(\n",
            "/usr/local/lib/python3.10/dist-packages/sklearn/cluster/_kmeans.py:870: FutureWarning: The default value of `n_init` will change from 10 to 'auto' in 1.4. Set the value of `n_init` explicitly to suppress the warning\n",
            "  warnings.warn(\n"
          ]
        },
        {
          "output_type": "display_data",
          "data": {
            "text/plain": [
              "<Figure size 600x600 with 1 Axes>"
            ],
            "image/png": "[encoded data removed]"
          },
          "metadata": {}
        }
      ]
    }
  ]
}