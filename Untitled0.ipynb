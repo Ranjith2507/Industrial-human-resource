{
  "nbformat": 4,
  "nbformat_minor": 0,
  "metadata": {
    "colab": {
      "provenance": [],
      "authorship_tag": "ABX9TyOKLcYWXAeAXGn+MBk6qGXu",
      "include_colab_link": true
    },
    "kernelspec": {
      "name": "python3",
      "display_name": "Python 3"
    },
    "language_info": {
      "name": "python"
    }
  },
  "cells": [
    {
      "cell_type": "markdown",
      "metadata": {
        "id": "view-in-github",
        "colab_type": "text"
      },
      "source": [
        "<a href=\"https://colab.research.google.com/github/Ranjith2507/Industrial-human-resource/blob/main/Untitled0.ipynb\" target=\"_parent\"><img src=\"https://colab.research.google.com/assets/colab-badge.svg\" alt=\"Open In Colab\"/></a>"
      ]
    },
    {
      "cell_type": "code",
      "execution_count": null,
      "metadata": {
        "id": "g6Mq3hmapoBD"
      },
      "outputs": [],
      "source": [
        "import streamlit as st\n",
        "import pandas as pd\n",
        "import numpy as np\n",
        "from glob import glob\n",
        "import matplotlib.pyplot as plt\n",
        "import seaborn as sns\n",
        "import folium\n",
        "\n",
        "# Load the dataset\n",
        "\n",
        "#data_files = sorted(glob('/content/drive/MyDrive/data/*.csv'))\n",
        "\n",
        "df = pd.concat(pd.read_csv(datafile, encoding=('ISO-8859-1'),low_memory =False).assign(sourcefilename = datafile) for datafile in data_files)\n",
        "\n",
        "department=['Main Workers-Total-Persons,Marginal Workers-Total-Persons,Marginal Workers-Rural-Persons,Marginal Workers-Urban-Persons']\n",
        "job_title=['Main Workers-Total-Males,Main Workers-Total-Females,Marginal Workers-Total-Males,Marginal Workers-Total-Females,Marginal Workers-Rural-Males,Marginal Workers-Rural-Females,Marginal Workers-Urban-Males,Marginal Workers-Urban-Females']\n",
        "\n",
        "# Sidebar filters\n",
        "st.sidebar.header(\"Industrial Human Resources \")\n",
        "department = st.sidebar.selectbox(\"Department\", data[\"Department\"].unique())\n",
        "job_title = st.sidebar.selectbox(\"Job Title\", data[\"Job Title\"].unique())\n",
        "\n",
        "# Apply filters\n",
        "filtered_data = data[(data[\"Department\"] == department) & (data[\"Job Title\"] == job_title)]\n",
        "\n",
        "# Show filtered data\n",
        "st.write(filtered_data)\n",
        "\n",
        "# Map visualization\n",
        "st.header(\"Geo-Visualization\")\n",
        "location_data = filtered_data[[\"Latitude\", \"Longitude\"]].dropna()\n",
        "\n",
        "# Create a folium map centered at the mean location\n",
        "center_latitude = location_data[\"Latitude\"].mean()\n",
        "center_longitude = location_data[\"Longitude\"].mean()\n",
        "map = folium.Map(location=[center_latitude, center_longitude], zoom_start=10)\n",
        "\n",
        "# Add markers for each employee\n",
        "for index, row in location_data.iterrows():\n",
        "    folium.Marker([row[\"Latitude\"], row[\"Longitude\"]]).add_to(map)\n",
        "\n",
        "# Render the map\n",
        "st.markdown(map._repr_html_(), unsafe_allow_html=True)"
      ]
    }
  ]
}